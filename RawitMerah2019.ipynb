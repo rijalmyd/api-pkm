{
  "nbformat": 4,
  "nbformat_minor": 0,
  "metadata": {
    "colab": {
      "provenance": [],
      "authorship_tag": "ABX9TyOL44Jto+c37sUYJhO1OFrm",
      "include_colab_link": true
    },
    "kernelspec": {
      "name": "python3",
      "display_name": "Python 3"
    },
    "language_info": {
      "name": "python"
    },
    "accelerator": "GPU",
    "gpuClass": "standard"
  },
  "cells": [
    {
      "cell_type": "markdown",
      "metadata": {
        "id": "view-in-github",
        "colab_type": "text"
      },
      "source": [
        "<a href=\"https://colab.research.google.com/github/rijalmyd/api-pkm/blob/main/RawitMerah2019.ipynb\" target=\"_parent\"><img src=\"https://colab.research.google.com/assets/colab-badge.svg\" alt=\"Open In Colab\"/></a>"
      ]
    },
    {
      "cell_type": "code",
      "execution_count": null,
      "metadata": {
        "id": "QxQPuhb2mRHq"
      },
      "outputs": [],
      "source": [
        "from google.colab import drive\n",
        "import pandas as pd\n",
        "import numpy as np\n",
        "from sklearn.preprocessing import MinMaxScaler\n",
        "from sklearn.model_selection import train_test_split\n",
        "from keras.layers import Dense, LSTM, Dropout\n",
        "import matplotlib.pyplot as plt\n",
        "import tensorflow as tf\n",
        "import joblib"
      ]
    },
    {
      "cell_type": "code",
      "source": [
        "url = \"https://raw.githubusercontent.com/rijalmyd/machine_learning/main/CabaiRawitMerahFix.csv\"\n",
        "df = pd.read_csv(url)\n",
        "df"
      ],
      "metadata": {
        "colab": {
          "base_uri": "https://localhost:8080/",
          "height": 423
        },
        "id": "vhDZ8lgVncZt",
        "outputId": "96193975-61ad-42ba-c538-2b5de213ad13"
      },
      "execution_count": null,
      "outputs": [
        {
          "output_type": "execute_result",
          "data": {
            "text/plain": [
              "        tanggal  harga\n",
              "0    02-01-2020  24400\n",
              "1    03-01-2020  24400\n",
              "2    06-01-2020  24400\n",
              "3    07-01-2020  24400\n",
              "4    08-01-2020  24400\n",
              "..          ...    ...\n",
              "711  29-11-2022  22500\n",
              "712  30-11-2022  22500\n",
              "713  01-12-2022  22500\n",
              "714  02-12-2022  22500\n",
              "715  05-12-2022  22500\n",
              "\n",
              "[716 rows x 2 columns]"
            ],
            "text/html": [
              "\n",
              "  <div id=\"df-7b3e0eb6-1760-46ca-8912-ae0349a21197\">\n",
              "    <div class=\"colab-df-container\">\n",
              "      <div>\n",
              "<style scoped>\n",
              "    .dataframe tbody tr th:only-of-type {\n",
              "        vertical-align: middle;\n",
              "    }\n",
              "\n",
              "    .dataframe tbody tr th {\n",
              "        vertical-align: top;\n",
              "    }\n",
              "\n",
              "    .dataframe thead th {\n",
              "        text-align: right;\n",
              "    }\n",
              "</style>\n",
              "<table border=\"1\" class=\"dataframe\">\n",
              "  <thead>\n",
              "    <tr style=\"text-align: right;\">\n",
              "      <th></th>\n",
              "      <th>tanggal</th>\n",
              "      <th>harga</th>\n",
              "    </tr>\n",
              "  </thead>\n",
              "  <tbody>\n",
              "    <tr>\n",
              "      <th>0</th>\n",
              "      <td>02-01-2020</td>\n",
              "      <td>24400</td>\n",
              "    </tr>\n",
              "    <tr>\n",
              "      <th>1</th>\n",
              "      <td>03-01-2020</td>\n",
              "      <td>24400</td>\n",
              "    </tr>\n",
              "    <tr>\n",
              "      <th>2</th>\n",
              "      <td>06-01-2020</td>\n",
              "      <td>24400</td>\n",
              "    </tr>\n",
              "    <tr>\n",
              "      <th>3</th>\n",
              "      <td>07-01-2020</td>\n",
              "      <td>24400</td>\n",
              "    </tr>\n",
              "    <tr>\n",
              "      <th>4</th>\n",
              "      <td>08-01-2020</td>\n",
              "      <td>24400</td>\n",
              "    </tr>\n",
              "    <tr>\n",
              "      <th>...</th>\n",
              "      <td>...</td>\n",
              "      <td>...</td>\n",
              "    </tr>\n",
              "    <tr>\n",
              "      <th>711</th>\n",
              "      <td>29-11-2022</td>\n",
              "      <td>22500</td>\n",
              "    </tr>\n",
              "    <tr>\n",
              "      <th>712</th>\n",
              "      <td>30-11-2022</td>\n",
              "      <td>22500</td>\n",
              "    </tr>\n",
              "    <tr>\n",
              "      <th>713</th>\n",
              "      <td>01-12-2022</td>\n",
              "      <td>22500</td>\n",
              "    </tr>\n",
              "    <tr>\n",
              "      <th>714</th>\n",
              "      <td>02-12-2022</td>\n",
              "      <td>22500</td>\n",
              "    </tr>\n",
              "    <tr>\n",
              "      <th>715</th>\n",
              "      <td>05-12-2022</td>\n",
              "      <td>22500</td>\n",
              "    </tr>\n",
              "  </tbody>\n",
              "</table>\n",
              "<p>716 rows × 2 columns</p>\n",
              "</div>\n",
              "      <button class=\"colab-df-convert\" onclick=\"convertToInteractive('df-7b3e0eb6-1760-46ca-8912-ae0349a21197')\"\n",
              "              title=\"Convert this dataframe to an interactive table.\"\n",
              "              style=\"display:none;\">\n",
              "        \n",
              "  <svg xmlns=\"http://www.w3.org/2000/svg\" height=\"24px\"viewBox=\"0 0 24 24\"\n",
              "       width=\"24px\">\n",
              "    <path d=\"M0 0h24v24H0V0z\" fill=\"none\"/>\n",
              "    <path d=\"M18.56 5.44l.94 2.06.94-2.06 2.06-.94-2.06-.94-.94-2.06-.94 2.06-2.06.94zm-11 1L8.5 8.5l.94-2.06 2.06-.94-2.06-.94L8.5 2.5l-.94 2.06-2.06.94zm10 10l.94 2.06.94-2.06 2.06-.94-2.06-.94-.94-2.06-.94 2.06-2.06.94z\"/><path d=\"M17.41 7.96l-1.37-1.37c-.4-.4-.92-.59-1.43-.59-.52 0-1.04.2-1.43.59L10.3 9.45l-7.72 7.72c-.78.78-.78 2.05 0 2.83L4 21.41c.39.39.9.59 1.41.59.51 0 1.02-.2 1.41-.59l7.78-7.78 2.81-2.81c.8-.78.8-2.07 0-2.86zM5.41 20L4 18.59l7.72-7.72 1.47 1.35L5.41 20z\"/>\n",
              "  </svg>\n",
              "      </button>\n",
              "      \n",
              "  <style>\n",
              "    .colab-df-container {\n",
              "      display:flex;\n",
              "      flex-wrap:wrap;\n",
              "      gap: 12px;\n",
              "    }\n",
              "\n",
              "    .colab-df-convert {\n",
              "      background-color: #E8F0FE;\n",
              "      border: none;\n",
              "      border-radius: 50%;\n",
              "      cursor: pointer;\n",
              "      display: none;\n",
              "      fill: #1967D2;\n",
              "      height: 32px;\n",
              "      padding: 0 0 0 0;\n",
              "      width: 32px;\n",
              "    }\n",
              "\n",
              "    .colab-df-convert:hover {\n",
              "      background-color: #E2EBFA;\n",
              "      box-shadow: 0px 1px 2px rgba(60, 64, 67, 0.3), 0px 1px 3px 1px rgba(60, 64, 67, 0.15);\n",
              "      fill: #174EA6;\n",
              "    }\n",
              "\n",
              "    [theme=dark] .colab-df-convert {\n",
              "      background-color: #3B4455;\n",
              "      fill: #D2E3FC;\n",
              "    }\n",
              "\n",
              "    [theme=dark] .colab-df-convert:hover {\n",
              "      background-color: #434B5C;\n",
              "      box-shadow: 0px 1px 3px 1px rgba(0, 0, 0, 0.15);\n",
              "      filter: drop-shadow(0px 1px 2px rgba(0, 0, 0, 0.3));\n",
              "      fill: #FFFFFF;\n",
              "    }\n",
              "  </style>\n",
              "\n",
              "      <script>\n",
              "        const buttonEl =\n",
              "          document.querySelector('#df-7b3e0eb6-1760-46ca-8912-ae0349a21197 button.colab-df-convert');\n",
              "        buttonEl.style.display =\n",
              "          google.colab.kernel.accessAllowed ? 'block' : 'none';\n",
              "\n",
              "        async function convertToInteractive(key) {\n",
              "          const element = document.querySelector('#df-7b3e0eb6-1760-46ca-8912-ae0349a21197');\n",
              "          const dataTable =\n",
              "            await google.colab.kernel.invokeFunction('convertToInteractive',\n",
              "                                                     [key], {});\n",
              "          if (!dataTable) return;\n",
              "\n",
              "          const docLinkHtml = 'Like what you see? Visit the ' +\n",
              "            '<a target=\"_blank\" href=https://colab.research.google.com/notebooks/data_table.ipynb>data table notebook</a>'\n",
              "            + ' to learn more about interactive tables.';\n",
              "          element.innerHTML = '';\n",
              "          dataTable['output_type'] = 'display_data';\n",
              "          await google.colab.output.renderOutput(dataTable, element);\n",
              "          const docLink = document.createElement('div');\n",
              "          docLink.innerHTML = docLinkHtml;\n",
              "          element.appendChild(docLink);\n",
              "        }\n",
              "      </script>\n",
              "    </div>\n",
              "  </div>\n",
              "  "
            ]
          },
          "metadata": {},
          "execution_count": 3
        }
      ]
    },
    {
      "cell_type": "code",
      "source": [
        "df.isnull().sum()"
      ],
      "metadata": {
        "colab": {
          "base_uri": "https://localhost:8080/"
        },
        "id": "7Qi048fOq6WD",
        "outputId": "add060d0-c6a6-4c1f-b974-781b110299b0"
      },
      "execution_count": null,
      "outputs": [
        {
          "output_type": "execute_result",
          "data": {
            "text/plain": [
              "tanggal    0\n",
              "harga      0\n",
              "dtype: int64"
            ]
          },
          "metadata": {},
          "execution_count": 4
        }
      ]
    },
    {
      "cell_type": "code",
      "source": [
        "def normalize_data(df):\n",
        "    scaler = MinMaxScaler()\n",
        "    df['harga'] = scaler.fit_transform(df['harga'].values.reshape(-1,1))\n",
        "    return df\n",
        "\n",
        "df_new = normalize_data(df)\n",
        "df_new.shape"
      ],
      "metadata": {
        "colab": {
          "base_uri": "https://localhost:8080/"
        },
        "id": "SYMM0Yo4reyG",
        "outputId": "e2cc349c-7d5c-4d39-c0f7-c335555624a9"
      },
      "execution_count": null,
      "outputs": [
        {
          "output_type": "execute_result",
          "data": {
            "text/plain": [
              "(716, 2)"
            ]
          },
          "metadata": {},
          "execution_count": 5
        }
      ]
    },
    {
      "cell_type": "code",
      "source": [
        "year = df_new['tanggal'].values\n",
        "total  = df_new['harga'].values\n",
        "\n",
        "plt.figure(figsize=(15,5))\n",
        "plt.plot(year, total)\n",
        "plt.title('Plot Cabai Rawit Merah 2020-2022', fontsize=20)"
      ],
      "metadata": {
        "colab": {
          "base_uri": "https://localhost:8080/",
          "height": 359
        },
        "id": "m6-vUR0zrjDB",
        "outputId": "d6b52f40-a7b9-470a-819a-bf80245c04ba"
      },
      "execution_count": null,
      "outputs": [
        {
          "output_type": "execute_result",
          "data": {
            "text/plain": [
              "Text(0.5, 1.0, 'Plot Cabai Rawit Merah 2020-2022')"
            ]
          },
          "metadata": {},
          "execution_count": 6
        },
        {
          "output_type": "display_data",
          "data": {
            "text/plain": [
              "<Figure size 1080x360 with 1 Axes>"
            ],
            "image/png": "[encoded data removed]"
          },
          "metadata": {
            "needs_background": "light"
          }
        }
      ]
    },
    {
      "cell_type": "code",
      "source": [
        "x_train, x_valid, y_train, y_valid = train_test_split(total, year, test_size=0.2, shuffle=False )"
      ],
      "metadata": {
        "id": "eA1-MZSgr2jA"
      },
      "execution_count": null,
      "outputs": []
    },
    {
      "cell_type": "code",
      "source": [
        "def windowed_dataset(series, window_size, batch_size, shuffle_buffer):\n",
        "    series = tf.expand_dims(series, axis=-1)\n",
        "    ds = tf.data.Dataset.from_tensor_slices(series)\n",
        "    ds = ds.window(window_size + 1, shift=1, drop_remainder=True)\n",
        "    ds = ds.flat_map(lambda w: w.batch(window_size + 1))\n",
        "    ds = ds.shuffle(shuffle_buffer)\n",
        "    ds = ds.map(lambda w: (w[:-1], w[-1:]))\n",
        "    return ds.batch(batch_size).prefetch(1)"
      ],
      "metadata": {
        "id": "Za5x3Oljr7wg"
      },
      "execution_count": null,
      "outputs": []
    },
    {
      "cell_type": "code",
      "source": [
        "train_set = windowed_dataset(x_train, window_size=60, batch_size=100, shuffle_buffer=1000)\n",
        "val_set = windowed_dataset(x_valid, window_size=60, batch_size=100, shuffle_buffer=1000)"
      ],
      "metadata": {
        "id": "QggiZG0VsBz5"
      },
      "execution_count": null,
      "outputs": []
    },
    {
      "cell_type": "code",
      "source": [
        "model = tf.keras.models.Sequential([\n",
        "  LSTM(60, return_sequences=True),\n",
        "  LSTM(60),\n",
        "  Dense(30, activation=\"relu\"),\n",
        "  Dropout(0.5),\n",
        "  Dense(10, activation=\"relu\"),\n",
        "  Dropout(0.2),\n",
        "  Dense(1)\n",
        "])"
      ],
      "metadata": {
        "id": "xT_ZojKZsJaw"
      },
      "execution_count": null,
      "outputs": []
    },
    {
      "cell_type": "code",
      "source": [
        "threshold_mae = (df_new['harga'].max() - df_new['harga'].min()) * 10/100\n",
        "print(threshold_mae)"
      ],
      "metadata": {
        "colab": {
          "base_uri": "https://localhost:8080/"
        },
        "id": "wQ4wF6ItsZeg",
        "outputId": "dbeb1325-c8f8-4d26-9d90-f1439ccee385"
      },
      "execution_count": null,
      "outputs": [
        {
          "output_type": "stream",
          "name": "stdout",
          "text": [
            "0.1\n"
          ]
        }
      ]
    },
    {
      "cell_type": "code",
      "source": [
        "class myCallback(tf.keras.callbacks.Callback):\n",
        "  def on_epoch_end(self, epoch, logs={}):\n",
        "    if(logs.get('mae') < threshold_mae and logs.get('val_mae') < threshold_mae):\n",
        "      print(\"\\nMAE model sudah < 10% skala data\")\n",
        "      self.model.stop_training = True\n",
        "callback = myCallback()"
      ],
      "metadata": {
        "id": "o4DKQNENsiHF"
      },
      "execution_count": null,
      "outputs": []
    },
    {
      "cell_type": "code",
      "source": [
        "optimizer = tf.keras.optimizers.SGD(learning_rate=1.0000e-04, momentum=0.9)\n",
        "model.compile(\n",
        "    loss=tf.keras.losses.Huber(),\n",
        "    optimizer=optimizer,\n",
        "    metrics=[\"mae\"]\n",
        ")\n",
        "history = model.fit(\n",
        "    train_set,\n",
        "    epochs=100,\n",
        "    validation_data=val_set,\n",
        "    callbacks=[callback]\n",
        ")"
      ],
      "metadata": {
        "colab": {
          "base_uri": "https://localhost:8080/"
        },
        "id": "pToyupdGsoDH",
        "outputId": "03372a0e-82ef-41f0-b186-4c73b0152fcf"
      },
      "execution_count": null,
      "outputs": [
        {
          "output_type": "stream",
          "name": "stdout",
          "text": [
            "Epoch 1/100\n",
            "6/6 [==============================] - 10s 328ms/step - loss: 0.0564 - mae: 0.2260 - val_loss: 0.0573 - val_mae: 0.3155\n",
            "Epoch 2/100\n",
            "6/6 [==============================] - 0s 20ms/step - loss: 0.0568 - mae: 0.2257 - val_loss: 0.0565 - val_mae: 0.3130\n",
            "Epoch 3/100\n",
            "6/6 [==============================] - 0s 23ms/step - loss: 0.0554 - mae: 0.2213 - val_loss: 0.0555 - val_mae: 0.3098\n",
            "Epoch 4/100\n",
            "6/6 [==============================] - 0s 21ms/step - loss: 0.0545 - mae: 0.2182 - val_loss: 0.0544 - val_mae: 0.3062\n",
            "Epoch 5/100\n",
            "6/6 [==============================] - 0s 20ms/step - loss: 0.0537 - mae: 0.2149 - val_loss: 0.0532 - val_mae: 0.3023\n",
            "Epoch 6/100\n",
            "6/6 [==============================] - 0s 20ms/step - loss: 0.0537 - mae: 0.2127 - val_loss: 0.0520 - val_mae: 0.2984\n",
            "Epoch 7/100\n",
            "6/6 [==============================] - 0s 21ms/step - loss: 0.0524 - mae: 0.2094 - val_loss: 0.0507 - val_mae: 0.2944\n",
            "Epoch 8/100\n",
            "6/6 [==============================] - 0s 21ms/step - loss: 0.0516 - mae: 0.2063 - val_loss: 0.0495 - val_mae: 0.2901\n",
            "Epoch 9/100\n",
            "6/6 [==============================] - 0s 20ms/step - loss: 0.0499 - mae: 0.2027 - val_loss: 0.0482 - val_mae: 0.2858\n",
            "Epoch 10/100\n",
            "6/6 [==============================] - 0s 20ms/step - loss: 0.0492 - mae: 0.2007 - val_loss: 0.0470 - val_mae: 0.2815\n",
            "Epoch 11/100\n",
            "6/6 [==============================] - 0s 28ms/step - loss: 0.0487 - mae: 0.1987 - val_loss: 0.0457 - val_mae: 0.2771\n",
            "Epoch 12/100\n",
            "6/6 [==============================] - 0s 21ms/step - loss: 0.0475 - mae: 0.1957 - val_loss: 0.0444 - val_mae: 0.2727\n",
            "Epoch 13/100\n",
            "6/6 [==============================] - 0s 21ms/step - loss: 0.0469 - mae: 0.1944 - val_loss: 0.0432 - val_mae: 0.2683\n",
            "Epoch 14/100\n",
            "6/6 [==============================] - 0s 20ms/step - loss: 0.0464 - mae: 0.1931 - val_loss: 0.0421 - val_mae: 0.2642\n",
            "Epoch 15/100\n",
            "6/6 [==============================] - 0s 20ms/step - loss: 0.0464 - mae: 0.1907 - val_loss: 0.0410 - val_mae: 0.2601\n",
            "Epoch 16/100\n",
            "6/6 [==============================] - 0s 20ms/step - loss: 0.0452 - mae: 0.1879 - val_loss: 0.0399 - val_mae: 0.2562\n",
            "Epoch 17/100\n",
            "6/6 [==============================] - 0s 20ms/step - loss: 0.0447 - mae: 0.1865 - val_loss: 0.0389 - val_mae: 0.2522\n",
            "Epoch 18/100\n",
            "6/6 [==============================] - 0s 20ms/step - loss: 0.0435 - mae: 0.1841 - val_loss: 0.0380 - val_mae: 0.2487\n",
            "Epoch 19/100\n",
            "6/6 [==============================] - 0s 21ms/step - loss: 0.0449 - mae: 0.1859 - val_loss: 0.0372 - val_mae: 0.2454\n",
            "Epoch 20/100\n",
            "6/6 [==============================] - 0s 34ms/step - loss: 0.0421 - mae: 0.1808 - val_loss: 0.0364 - val_mae: 0.2421\n",
            "Epoch 21/100\n",
            "6/6 [==============================] - 0s 37ms/step - loss: 0.0415 - mae: 0.1801 - val_loss: 0.0356 - val_mae: 0.2389\n",
            "Epoch 22/100\n",
            "6/6 [==============================] - 0s 40ms/step - loss: 0.0415 - mae: 0.1792 - val_loss: 0.0348 - val_mae: 0.2357\n",
            "Epoch 23/100\n",
            "6/6 [==============================] - 0s 49ms/step - loss: 0.0404 - mae: 0.1780 - val_loss: 0.0341 - val_mae: 0.2326\n",
            "Epoch 24/100\n",
            "6/6 [==============================] - 0s 39ms/step - loss: 0.0406 - mae: 0.1786 - val_loss: 0.0333 - val_mae: 0.2292\n",
            "Epoch 25/100\n",
            "6/6 [==============================] - 0s 43ms/step - loss: 0.0407 - mae: 0.1777 - val_loss: 0.0326 - val_mae: 0.2261\n",
            "Epoch 26/100\n",
            "6/6 [==============================] - 0s 22ms/step - loss: 0.0394 - mae: 0.1750 - val_loss: 0.0319 - val_mae: 0.2232\n",
            "Epoch 27/100\n",
            "6/6 [==============================] - 0s 24ms/step - loss: 0.0385 - mae: 0.1730 - val_loss: 0.0312 - val_mae: 0.2203\n",
            "Epoch 28/100\n",
            "6/6 [==============================] - 0s 20ms/step - loss: 0.0369 - mae: 0.1702 - val_loss: 0.0306 - val_mae: 0.2175\n",
            "Epoch 29/100\n",
            "6/6 [==============================] - 0s 35ms/step - loss: 0.0375 - mae: 0.1724 - val_loss: 0.0300 - val_mae: 0.2146\n",
            "Epoch 30/100\n",
            "6/6 [==============================] - 0s 47ms/step - loss: 0.0377 - mae: 0.1722 - val_loss: 0.0294 - val_mae: 0.2118\n",
            "Epoch 31/100\n",
            "6/6 [==============================] - 0s 33ms/step - loss: 0.0370 - mae: 0.1703 - val_loss: 0.0288 - val_mae: 0.2091\n",
            "Epoch 32/100\n",
            "6/6 [==============================] - 0s 35ms/step - loss: 0.0380 - mae: 0.1743 - val_loss: 0.0282 - val_mae: 0.2064\n",
            "Epoch 33/100\n",
            "6/6 [==============================] - 0s 34ms/step - loss: 0.0367 - mae: 0.1721 - val_loss: 0.0277 - val_mae: 0.2037\n",
            "Epoch 34/100\n",
            "6/6 [==============================] - 0s 40ms/step - loss: 0.0369 - mae: 0.1728 - val_loss: 0.0271 - val_mae: 0.2009\n",
            "Epoch 35/100\n",
            "6/6 [==============================] - 0s 35ms/step - loss: 0.0368 - mae: 0.1716 - val_loss: 0.0266 - val_mae: 0.1984\n",
            "Epoch 36/100\n",
            "6/6 [==============================] - 0s 57ms/step - loss: 0.0364 - mae: 0.1700 - val_loss: 0.0261 - val_mae: 0.1960\n",
            "Epoch 37/100\n",
            "6/6 [==============================] - 0s 41ms/step - loss: 0.0355 - mae: 0.1687 - val_loss: 0.0256 - val_mae: 0.1934\n",
            "Epoch 38/100\n",
            "6/6 [==============================] - 0s 37ms/step - loss: 0.0358 - mae: 0.1693 - val_loss: 0.0251 - val_mae: 0.1908\n",
            "Epoch 39/100\n",
            "6/6 [==============================] - 0s 37ms/step - loss: 0.0346 - mae: 0.1679 - val_loss: 0.0246 - val_mae: 0.1882\n",
            "Epoch 40/100\n",
            "6/6 [==============================] - 0s 28ms/step - loss: 0.0351 - mae: 0.1689 - val_loss: 0.0241 - val_mae: 0.1858\n",
            "Epoch 41/100\n",
            "6/6 [==============================] - 0s 25ms/step - loss: 0.0338 - mae: 0.1669 - val_loss: 0.0236 - val_mae: 0.1833\n",
            "Epoch 42/100\n",
            "6/6 [==============================] - 0s 39ms/step - loss: 0.0344 - mae: 0.1655 - val_loss: 0.0232 - val_mae: 0.1810\n",
            "Epoch 43/100\n",
            "6/6 [==============================] - 0s 38ms/step - loss: 0.0347 - mae: 0.1687 - val_loss: 0.0228 - val_mae: 0.1789\n",
            "Epoch 44/100\n",
            "6/6 [==============================] - 0s 27ms/step - loss: 0.0326 - mae: 0.1633 - val_loss: 0.0224 - val_mae: 0.1766\n",
            "Epoch 45/100\n",
            "6/6 [==============================] - 0s 20ms/step - loss: 0.0343 - mae: 0.1693 - val_loss: 0.0220 - val_mae: 0.1745\n",
            "Epoch 46/100\n",
            "6/6 [==============================] - 0s 29ms/step - loss: 0.0348 - mae: 0.1655 - val_loss: 0.0217 - val_mae: 0.1726\n",
            "Epoch 47/100\n",
            "6/6 [==============================] - 0s 20ms/step - loss: 0.0339 - mae: 0.1682 - val_loss: 0.0213 - val_mae: 0.1708\n",
            "Epoch 48/100\n",
            "6/6 [==============================] - 0s 28ms/step - loss: 0.0327 - mae: 0.1647 - val_loss: 0.0210 - val_mae: 0.1690\n",
            "Epoch 49/100\n",
            "6/6 [==============================] - 0s 32ms/step - loss: 0.0333 - mae: 0.1685 - val_loss: 0.0207 - val_mae: 0.1673\n",
            "Epoch 50/100\n",
            "6/6 [==============================] - 0s 23ms/step - loss: 0.0324 - mae: 0.1650 - val_loss: 0.0204 - val_mae: 0.1656\n",
            "Epoch 51/100\n",
            "6/6 [==============================] - 0s 21ms/step - loss: 0.0324 - mae: 0.1654 - val_loss: 0.0202 - val_mae: 0.1639\n",
            "Epoch 52/100\n",
            "6/6 [==============================] - 0s 29ms/step - loss: 0.0329 - mae: 0.1650 - val_loss: 0.0199 - val_mae: 0.1621\n",
            "Epoch 53/100\n",
            "6/6 [==============================] - 0s 20ms/step - loss: 0.0298 - mae: 0.1614 - val_loss: 0.0196 - val_mae: 0.1604\n",
            "Epoch 54/100\n",
            "6/6 [==============================] - 0s 27ms/step - loss: 0.0316 - mae: 0.1625 - val_loss: 0.0193 - val_mae: 0.1587\n",
            "Epoch 55/100\n",
            "6/6 [==============================] - 0s 33ms/step - loss: 0.0319 - mae: 0.1647 - val_loss: 0.0190 - val_mae: 0.1569\n",
            "Epoch 56/100\n",
            "6/6 [==============================] - 0s 39ms/step - loss: 0.0313 - mae: 0.1657 - val_loss: 0.0187 - val_mae: 0.1551\n",
            "Epoch 57/100\n",
            "6/6 [==============================] - 0s 20ms/step - loss: 0.0312 - mae: 0.1639 - val_loss: 0.0184 - val_mae: 0.1533\n",
            "Epoch 58/100\n",
            "6/6 [==============================] - 0s 20ms/step - loss: 0.0299 - mae: 0.1599 - val_loss: 0.0182 - val_mae: 0.1517\n",
            "Epoch 59/100\n",
            "6/6 [==============================] - 0s 19ms/step - loss: 0.0309 - mae: 0.1641 - val_loss: 0.0179 - val_mae: 0.1503\n",
            "Epoch 60/100\n",
            "6/6 [==============================] - 0s 20ms/step - loss: 0.0303 - mae: 0.1636 - val_loss: 0.0177 - val_mae: 0.1486\n",
            "Epoch 61/100\n",
            "6/6 [==============================] - 0s 20ms/step - loss: 0.0299 - mae: 0.1621 - val_loss: 0.0174 - val_mae: 0.1471\n",
            "Epoch 62/100\n",
            "6/6 [==============================] - 0s 21ms/step - loss: 0.0301 - mae: 0.1637 - val_loss: 0.0172 - val_mae: 0.1456\n",
            "Epoch 63/100\n",
            "6/6 [==============================] - 0s 29ms/step - loss: 0.0301 - mae: 0.1619 - val_loss: 0.0170 - val_mae: 0.1439\n",
            "Epoch 64/100\n",
            "6/6 [==============================] - 0s 28ms/step - loss: 0.0311 - mae: 0.1662 - val_loss: 0.0168 - val_mae: 0.1425\n",
            "Epoch 65/100\n",
            "6/6 [==============================] - 0s 22ms/step - loss: 0.0292 - mae: 0.1618 - val_loss: 0.0166 - val_mae: 0.1411\n",
            "Epoch 66/100\n",
            "6/6 [==============================] - 0s 20ms/step - loss: 0.0302 - mae: 0.1626 - val_loss: 0.0164 - val_mae: 0.1398\n",
            "Epoch 67/100\n",
            "6/6 [==============================] - 0s 20ms/step - loss: 0.0291 - mae: 0.1631 - val_loss: 0.0162 - val_mae: 0.1386\n",
            "Epoch 68/100\n",
            "6/6 [==============================] - 0s 28ms/step - loss: 0.0308 - mae: 0.1661 - val_loss: 0.0160 - val_mae: 0.1371\n",
            "Epoch 69/100\n",
            "6/6 [==============================] - 0s 20ms/step - loss: 0.0297 - mae: 0.1644 - val_loss: 0.0158 - val_mae: 0.1357\n",
            "Epoch 70/100\n",
            "6/6 [==============================] - 0s 20ms/step - loss: 0.0305 - mae: 0.1674 - val_loss: 0.0156 - val_mae: 0.1346\n",
            "Epoch 71/100\n",
            "6/6 [==============================] - 0s 20ms/step - loss: 0.0291 - mae: 0.1640 - val_loss: 0.0155 - val_mae: 0.1335\n",
            "Epoch 72/100\n",
            "6/6 [==============================] - 0s 20ms/step - loss: 0.0279 - mae: 0.1587 - val_loss: 0.0153 - val_mae: 0.1325\n",
            "Epoch 73/100\n",
            "6/6 [==============================] - 0s 20ms/step - loss: 0.0289 - mae: 0.1602 - val_loss: 0.0151 - val_mae: 0.1314\n",
            "Epoch 74/100\n",
            "6/6 [==============================] - 0s 20ms/step - loss: 0.0297 - mae: 0.1651 - val_loss: 0.0150 - val_mae: 0.1304\n",
            "Epoch 75/100\n",
            "6/6 [==============================] - 0s 20ms/step - loss: 0.0280 - mae: 0.1594 - val_loss: 0.0149 - val_mae: 0.1296\n",
            "Epoch 76/100\n",
            "6/6 [==============================] - 0s 20ms/step - loss: 0.0283 - mae: 0.1599 - val_loss: 0.0147 - val_mae: 0.1288\n",
            "Epoch 77/100\n",
            "6/6 [==============================] - 0s 20ms/step - loss: 0.0282 - mae: 0.1594 - val_loss: 0.0146 - val_mae: 0.1281\n",
            "Epoch 78/100\n",
            "6/6 [==============================] - 0s 29ms/step - loss: 0.0289 - mae: 0.1637 - val_loss: 0.0145 - val_mae: 0.1273\n",
            "Epoch 79/100\n",
            "6/6 [==============================] - 0s 20ms/step - loss: 0.0292 - mae: 0.1622 - val_loss: 0.0144 - val_mae: 0.1265\n",
            "Epoch 80/100\n",
            "6/6 [==============================] - 0s 20ms/step - loss: 0.0283 - mae: 0.1625 - val_loss: 0.0143 - val_mae: 0.1259\n",
            "Epoch 81/100\n",
            "6/6 [==============================] - 0s 20ms/step - loss: 0.0282 - mae: 0.1640 - val_loss: 0.0142 - val_mae: 0.1253\n",
            "Epoch 82/100\n",
            "6/6 [==============================] - 0s 21ms/step - loss: 0.0281 - mae: 0.1626 - val_loss: 0.0141 - val_mae: 0.1246\n",
            "Epoch 83/100\n",
            "6/6 [==============================] - 0s 20ms/step - loss: 0.0292 - mae: 0.1642 - val_loss: 0.0140 - val_mae: 0.1240\n",
            "Epoch 84/100\n",
            "6/6 [==============================] - 0s 26ms/step - loss: 0.0288 - mae: 0.1641 - val_loss: 0.0139 - val_mae: 0.1235\n",
            "Epoch 85/100\n",
            "6/6 [==============================] - 0s 29ms/step - loss: 0.0278 - mae: 0.1626 - val_loss: 0.0138 - val_mae: 0.1229\n",
            "Epoch 86/100\n",
            "6/6 [==============================] - 0s 38ms/step - loss: 0.0276 - mae: 0.1618 - val_loss: 0.0137 - val_mae: 0.1224\n",
            "Epoch 87/100\n",
            "6/6 [==============================] - 0s 41ms/step - loss: 0.0276 - mae: 0.1635 - val_loss: 0.0136 - val_mae: 0.1218\n",
            "Epoch 88/100\n",
            "6/6 [==============================] - 0s 20ms/step - loss: 0.0277 - mae: 0.1616 - val_loss: 0.0135 - val_mae: 0.1213\n",
            "Epoch 89/100\n",
            "6/6 [==============================] - 0s 23ms/step - loss: 0.0289 - mae: 0.1635 - val_loss: 0.0134 - val_mae: 0.1206\n",
            "Epoch 90/100\n",
            "6/6 [==============================] - 0s 26ms/step - loss: 0.0291 - mae: 0.1644 - val_loss: 0.0133 - val_mae: 0.1201\n",
            "Epoch 91/100\n",
            "6/6 [==============================] - 0s 29ms/step - loss: 0.0280 - mae: 0.1638 - val_loss: 0.0132 - val_mae: 0.1198\n",
            "Epoch 92/100\n",
            "6/6 [==============================] - 0s 21ms/step - loss: 0.0261 - mae: 0.1598 - val_loss: 0.0132 - val_mae: 0.1193\n",
            "Epoch 93/100\n",
            "6/6 [==============================] - 0s 20ms/step - loss: 0.0281 - mae: 0.1630 - val_loss: 0.0131 - val_mae: 0.1188\n",
            "Epoch 94/100\n",
            "6/6 [==============================] - 0s 20ms/step - loss: 0.0282 - mae: 0.1660 - val_loss: 0.0130 - val_mae: 0.1184\n",
            "Epoch 95/100\n",
            "6/6 [==============================] - 0s 20ms/step - loss: 0.0283 - mae: 0.1658 - val_loss: 0.0129 - val_mae: 0.1179\n",
            "Epoch 96/100\n",
            "6/6 [==============================] - 0s 20ms/step - loss: 0.0276 - mae: 0.1610 - val_loss: 0.0129 - val_mae: 0.1175\n",
            "Epoch 97/100\n",
            "6/6 [==============================] - 0s 20ms/step - loss: 0.0290 - mae: 0.1632 - val_loss: 0.0128 - val_mae: 0.1171\n",
            "Epoch 98/100\n",
            "6/6 [==============================] - 0s 20ms/step - loss: 0.0283 - mae: 0.1620 - val_loss: 0.0127 - val_mae: 0.1167\n",
            "Epoch 99/100\n",
            "6/6 [==============================] - 0s 20ms/step - loss: 0.0263 - mae: 0.1604 - val_loss: 0.0127 - val_mae: 0.1163\n",
            "Epoch 100/100\n",
            "6/6 [==============================] - 0s 22ms/step - loss: 0.0270 - mae: 0.1635 - val_loss: 0.0126 - val_mae: 0.1160\n"
          ]
        }
      ]
    },
    {
      "cell_type": "code",
      "source": [
        "joblib.dump(model, \"model.pkl\")\n",
        "model.save(\"model.h5\")"
      ],
      "metadata": {
        "id": "NzWgG-qvs7Lp",
        "colab": {
          "base_uri": "https://localhost:8080/"
        },
        "outputId": "caeb9c4d-a186-40f1-90da-c0fdb5756e1c"
      },
      "execution_count": null,
      "outputs": [
        {
          "output_type": "stream",
          "name": "stderr",
          "text": [
            "WARNING:absl:Found untraced functions such as lstm_cell_layer_call_fn, lstm_cell_layer_call_and_return_conditional_losses, lstm_cell_1_layer_call_fn, lstm_cell_1_layer_call_and_return_conditional_losses while saving (showing 4 of 4). These functions will not be directly callable after loading.\n"
          ]
        }
      ]
    }
  ]
}